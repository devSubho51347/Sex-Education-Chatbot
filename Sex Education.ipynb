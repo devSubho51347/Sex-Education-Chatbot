{
 "cells": [
  {
   "cell_type": "code",
   "execution_count": 66,
   "id": "7f68a9f2",
   "metadata": {},
   "outputs": [],
   "source": [
    "import pandas as pd\n",
    "import numpy as np"
   ]
  },
  {
   "cell_type": "code",
   "execution_count": 81,
   "id": "7b6f1ce0",
   "metadata": {},
   "outputs": [
    {
     "name": "stdout",
     "output_type": "stream",
     "text": [
      "Having sex is just normal and there should not be any regret if you have taken the consent. ANS- Technically, no — the time a woman is fertile is mostly limited to a few days each month in the middle of the menstrual cycle, meaning about two weeks from when she started her last period. That said, women may have bleeding during their cycle that is not a true period.. First, consider getting tested for STDs if you were using it to prevent them.If you’re concerned about getting pregnant, there are three ways to prevent it, explained here in order of effectiveness from most to least:Go to your women’s health provider (doctor or midwife, nurse practitioner, or PA) and have a copper IUD inserted.. PENIS SIZE DOESN,T MATTER IN T. Yes, to reduce the likelihood of STD transmission with oral sex, a dental dam is recommended when having sex with a new or non-monogamous partner. The dental dam is a sheet of soft pliable film that serves as a barrier to prevent STD transmission. It turns out there are likely not sperm in pre-ejaculate and what actually accounts for the relatively high failure rate is that the man doesn’t actually pull out. : No. the loss is compensated soon.. : It is natural. A wet dream is like a safety valve of the cooker. You do not need any treatment. It will be less when it finds an alternative vent, like masturbation or marital sexual intercourse.. Girl gets wetness in the vagina, but she does not ejaculate any fluid at the time of climax. There is no evidence that a celibate person lives longer and healthier life. On the contrary, married men like Maharshi Dhondo Keshav Karve, Shri. Vishweshwaraiyah Pandit Satavalekar who lived for over 10 years and achieved great heights in their life.. Legally a boy of 21 and a girl of 18 can get married. Their bodies are mature by then, but their minds are not. They might not be able to select partner judiciously at that age. Unless one completes the education, builds up a career, enjoys economic independence by having a job/profession, able to afford a home for the family, has been prepared for responsible parenthood, a marriage should not be thought of. This may be possible after 20 years for girls; and after 23 years for boys.. No. In fact such attempt could prove dangerous since contracting STD, HIV infection or a failure in sexual performance could be inevitable.. No. it is a myth. On the other hand, it could be disappointing one. The reasons are many. Both, husband and wife are novice to the sexual intercourse. Both are ignorant about the genitals and about the sexual act. Both are tired, and therefore sex may not work. The first wedding night and the successive few nights are mant for understanding each other. The expertise in sex performance is achieved by trial and error, since there is no avenue for guidance.. Not much. The great reward of motherhood makes a woman bear this pain. Delivery is a physiological process found in all the mammals including human beings.. By looking at facial expressions , the way of speaking either stammering or the instantaneous change in behaviour.. An erection  is a physiological phenomenon in which the penis becomes firm, engorged, and enlarged.. Early sex is risky. Two characteristics of adolescence are a sense of invulnerability and underdeveloped executive function. These result in many teens becoming sexually active without thinking through short- and long-term consequences.  . Sex has take in relaxing mind involving physical strength and endurance it can also act as a workout for you and just like workout it can relax you .. Sex without consent perhaps is but sex with consent  is not against the values .. When a man becomes aroused, the nerves surrounding his penis become active, causing the muscles around the arteries to relax and more blood to flow into the penis. The additional blood makes the penis stiff and hard, or erect. This erection tightens the veins so the blood can’t leave the penis, enabling the penis to remain erect.. Pinching the reservoir shut with one hand, place the condom against the tip of the erect penis. With your other hand, push your pubic hair out of the way if necessary. Then, gently roll the condom down the entire shaft of the penis, smoothing out any air bubbles that may appear. nan. Osteoporosis, Depression, Autoimmune  ,Heart diseases ,stroke, Parkinson’s disease and cancer. No , Pornographical content is not the right source for learning about sex as it deceives the things like consents which is a social deprivation. MASTUBATING ONCE A DAY IS NORMAL. IT IS SAFE BUT CONSENT HAS TO BE TAKEN PROPER PROTECTION HAS TO BE USED.. Absence or lack of sexual activity 2 Watching too much of explicit content 3 Excessive stimulation of genitals 4 Inadequate ejaculation 5 Going to bed with full bladder at night 6 Obesity 7 stress 8 physical inactivity 9 Taking of sex hormone supplements 10 Weak muscles. · The genital area should be cleaned with soap and water once every day with a mild and fragrance free soap.Cleaning the genitals just once every day and after sexual intercourse is quite enough. Anything more or less may disturb your vaginal PH.The internal genitalia or vagina does not require cleaning, especially with soap. This area is endowed with the good bacteria such as lactobacilli that produce lactic acid to destroy any harmful organisms. Washing may disrupt this pH resulting in the entry of unwanted infectious organisms.Always clean the vulva or genital area before the anal region to prevent the entry of harmful organisms from the anus into the genitals.While cleaning your genital area with a tissue or even while wiping it dry with a towel, always pat dry and then go from front to back with a single stroke. This prevents the contamination of the genitals with organisms from the anus that are known to cause urinary tract infections amongst others.Avoid cleaning your genitals with hot or warm water, as doing so may result in dryness and irritation. Using a hand held shower and some cold water is always recommended for this.. However, there may be some side effects such as nausea, fatigue, headache, and stomach cramps due to hormonal imbalance.. It is a highly effective and safe method of contraception.. YES SEXUAL INTERACTIONS DURING A DATE IS NORMAL BUT CONSENT HAS TO BE TAKEN FOR SO. - BISEXUAL CAN HAVE THROUGH ORAL MEANS OF SEX  . - Emergency contraception is a way to prevent pregnancy after unprotected sex. Often called the morning-after pill, emergency contraceptive pills (ECPs) are pills that can be taken up to 120 hours (5 days) after having unprotected sex. Currently, there's no cure for HIV / AIDS. Once you have the infection, your body can't get rid of it.. It is perfectly normal to have sex and enjoy it while on your period. There is no medical reason which might stop one from period sex. There is nothing wrong or dangerous about having sex during your menstrual cycle. WAXING, TRIMMING, GENETICAL ELECTROLYSYS AND LASER TREATMENT ARE SOME OF THE SAFE METHODS OF CENITAL HAIR REMOVAL. It can happen in women, but it is not as common of an occurrence.. -There are other body changes after sex, but might not be as noticeable. For instance, your nostrils will flare in response to heavy breathing, and your back might arch involuntarily, bringing you closer to your partner. Your eyes might tear, and your thighs might become tense and even shake.. FOR THE SAKE OF EXPERIENCE IT MATTERS BUT DESPITE OF A LOW STAMINA , YOU CAN BE INVOLVED IN THE PROCCESS OF REPRODUCTION. PORNOGRAPHICAL CONTENT IS PURELY SCRIPTED AND IS NOT REAL.. ANS-Infertility caused by low sperm count can be stressful for both you and your partner. Complications can include: 1. Surgery or other treatments for an underlying cause of low sperm count 2. Expensive and involved assisted reprod--uctive techniques, such as in vitro fertilization (IVF) 3. Stress related to the inability to have a child. YES PAID SEX IS OKAY BUT CONSENT AND PRECAUTIONS HAVE TO BE MAINTAINED.. Rough sex can lead to vaginal tearing, which again can lead to some spotting later. In some rare cases, if the blood is darker in colour, it could be some old menstrual blood coming out from the uterus.. VIAGRA IS NOT ABSOLUTELY SAFE BUT IS USED TO BE TAKEN TO CURE ERECTILE DYSFUNCTION. DOME OF IT’S SIDE EFFECTS ARE Flushing (sense of warmth in the face, ears, neck and trunk) Headache, Blurred vision, Muscle pain, Upset stomach, Rash. Yes, if you use them responsibly and keep them clean – otherwise, sex toys can pass on sexually transmitted infections (STIs) and infections passed on through the blood. YES VIBRATOR IS LEGAL IN INDIA. 18 IS THE RIGHT AGE FOR BOTH MEN AND WOMEN TO BE SEXUALLY ACTIVE.. Since it is a very private act where two people share compassion, many cultures do not allow open discussions or depiction of such instances. IVF, TURKEY BASTER TECHNIQUE , IUI,SPLASH PREGNANCY,SURROGACY AND ADOPTION ARE SOME OF THE METHODS.. NO GOD DOES NOT HAVE ANY ROLE IN THE PROCCESS.. PRECAUTIONS LIKE THE USE OF CONTRACEPTIVES AND MAINTAINING THE OVERALL AS WELL AS ORAL HYGIENCE IS IMPORTANT. It reduces stress, boosts immune and enhances our mood.. THAT IS PURELY RELATIONSHIP AND CONSENT DEPENDENT FROM BOTH THE SIDES. SEX PLAYS A VITAL ROLE IN CONTINUATION OF A SPECIECIES LEADING TO EVOLUTION TOO.. A person abnormally unable to achieve an erection or orgasm.. IN MOST OF THE CASES 45 IS THE AGE IN WHICH FERTILITY NATURALLY DECREASES.. Vasectomy is a safe and effective birth control choice for men who are certain they don't want to father a child in the future. It's considered permanent, so once it's done you don't have to think about contraception again. It doesn't affect your sex drive or ability to enjoy sex. You'll still have erections and ejaculate, but your semen won't contain sperm. Essure, Tubal Ligation and Vasectomy ARE SOME OF THE SAFE METHODS FOR SO.. ANS- Men can carry genetic disorders such as loss of part of the Y chromosome or extra chromosomes as a cause of low sperm counts. These disorders can be passed on to their offspring.. IN MOST CASES IT DOES NOT AND IN MANY IT MAY This is commonly referred to as “post-sex blues.” This happens when you feel a range of negative feelings after wanted sexual activity. You can feel a range of emotions including sadness, irritability, agitation, anxiety, and depression after sex with a partner. Sometimes the pressure of having sex for the very first time might get to you and you could suffer erection issues or premature ejaculation and During this sexual arousal, well-oxygenated blood is supplied to your genitals and breasts. As a result, the outer lips, inner lips and clitoris may begin to swell and your heart rate and blood pressure may also increase momentarily.. yes regular sex is safe but precautions have to be taken.. – if there is no chance of early pregnancy and proper precautions are taken then the sex is safe.. A good diet can help boost your libido and ensure your body is working well. A poor diet can lead to a host of health issues, which may negatively effect your sex life. For example, erectile dysfunction is often linked to obesity and diabetes, which can be caused by a poor diet.. That rush of oxytocin is involved in the physical part of sex. It can also boost emotions like love, affection, and euphoria.. NO IT DOES NOT. INTERVAL OF 72 HOURS SHOULD BE THERE BETWEEN TAKING 2 I - PILLS. DURING THE PREGNANCY 1ST AND 3RD TRIMESTER IT SHOULD AVOIDED AND THE RISK OF ABORTION INCREASES IF INTERCOURSE IS DONE BETWEEN THIS PERIOD.. WHITE DISCHARGE , LOWER ABDOMINAL PAIN , ULCERATIONS , DYPERNUNIA. thyroid disorders , obesity, pco polycystic syndrome are some of so . MISSED PERIODS, NOUSEA, VOMITING, DIZZINESS, BREAST CONGESTION ,AND SOMETIMES LOWER ABDOMEN PAIN. USE HYGIENIC SANITARY PADS SHOULD CHANGED 2-3 PADS PER DAY IN NORMAL FLOW DO NOT USE CLOTH , SOMETIMES TAMPOONS CAN ALSO BE USE PROVIDED THEY ARE CLEANED REGULARLY. TO AVOID STD AND CERVICAL CANCER , VACCINATIONS ARE RECOMMENDED FOR ADOLOSCENT GIRLS WHEN THEY ATTAIN MENARCHY. CERVARIX ANDGRADASILSCHEDULED. \n"
     ]
    }
   ],
   "source": [
    "df = pd.read_csv(\"intel ai4youth - Sheet1.csv\")\n",
    "df[\"Answer\"]\n",
    "text = \"\"\n",
    "for ele in df[\"Answer\"][3::]:\n",
    "    text = text + str(ele) + \". \"\n",
    "print(text)     "
   ]
  },
  {
   "cell_type": "code",
   "execution_count": null,
   "id": "1ae8f6a0",
   "metadata": {},
   "outputs": [],
   "source": []
  },
  {
   "cell_type": "code",
   "execution_count": 1,
   "id": "58777c64",
   "metadata": {},
   "outputs": [],
   "source": [
    "# text = '''\n",
    "#  Pornography devalues sex and can be very seductive and habit-forming and its scripts are quite influencial and also do not show the value of consents, with increasing needs for more sensational material. Exposure to pornography also leads to unrealistic expectations later in life. Viewing pornography detaches you from the “real world” and real relationships with people. Young men who routinely view pornography have to eventually get more and more increasingly hard-core pornography to get sexually stimulus.\n",
    "#  It turns out there are likely not sperm in pre-ejaculate and what actually accounts for the relatively high failure rate is that the man doesn’t actually pull out.\n",
    "#  While you cannot get pregnant through oral sex, it is still clearly a sexual act, and most teens who engage in oral sex will proceed to vaginal sex. One problem with oral sex is that the intimacy of sex is removed. Many girls often feel used after performing the act. Furthermore, virtually all STDs can be transmitted through oral sex. And some STDs, including genital Herpes, Syphilis, and Chlamydia are easily spread through oral sex as well.\n",
    "#  Having sex is just normal and there should not be any regret if you have taken the consent.\n",
    "#  Technically, no — the time a woman is fertile is mostly limited to a few days each month in the middle of the menstrual cycle, meaning about two weeks from when she started her last period. That said, women may have bleeding during their cycle that is not a true period.\n",
    "#  If your condom breaks then consider getting tested for STDs if you were using it to prevent them.If you’re concerned about getting pregnant, there are three ways to prevent it, explained here in order of effectiveness from most to least.Go to your women’s health provider (doctor or midwife, nurse practitioner, or PA) and have a copper IUD inserted.\n",
    "# '''"
   ]
  },
  {
   "cell_type": "code",
   "execution_count": 2,
   "id": "d8862346",
   "metadata": {},
   "outputs": [],
   "source": [
    "import nltk"
   ]
  },
  {
   "cell_type": "code",
   "execution_count": 12,
   "id": "301bea74",
   "metadata": {},
   "outputs": [],
   "source": [
    "import random"
   ]
  },
  {
   "cell_type": "code",
   "execution_count": 3,
   "id": "95287b16",
   "metadata": {},
   "outputs": [
    {
     "data": {
      "text/plain": [
       "True"
      ]
     },
     "execution_count": 3,
     "metadata": {},
     "output_type": "execute_result"
    }
   ],
   "source": [
    "from nltk.stem import WordNetLemmatizer\n",
    "nltk.download('popular', quiet=True)"
   ]
  },
  {
   "cell_type": "code",
   "execution_count": 72,
   "id": "45b44f6f",
   "metadata": {},
   "outputs": [],
   "source": [
    "text = text.lower()"
   ]
  },
  {
   "cell_type": "code",
   "execution_count": 8,
   "id": "31e678a6",
   "metadata": {},
   "outputs": [],
   "source": [
    "import sklearn\n",
    "from sklearn.feature_extraction.text import TfidfVectorizer\n",
    "from sklearn.metrics.pairwise import cosine_similarity"
   ]
  },
  {
   "cell_type": "code",
   "execution_count": 22,
   "id": "ccb45a62",
   "metadata": {},
   "outputs": [],
   "source": [
    "lemmer = nltk.stem.WordNetLemmatizer()"
   ]
  },
  {
   "cell_type": "code",
   "execution_count": 47,
   "id": "c171f36a",
   "metadata": {},
   "outputs": [
    {
     "name": "stderr",
     "output_type": "stream",
     "text": [
      "C:\\Users\\subho\\AppData\\Local\\Programs\\Python\\Python39\\lib\\site-packages\\transformers\\models\\t5\\tokenization_t5.py:164: FutureWarning: This tokenizer was incorrectly instantiated with a model max length of 512 which will be corrected in Transformers v5.\n",
      "For now, this behavior is kept to avoid breaking backwards compatibility when padding/encoding with `truncation is True`.\n",
      "- Be aware that you SHOULD NOT rely on t5-base automatically truncating your input to 512 when padding/encoding.\n",
      "- If you want to encode/pad to sequences longer than 512 you can either instantiate this tokenizer with `model_max_length` or pass `max_length` when encoding/padding.\n",
      "- To avoid this warning, please instantiate this tokenizer with `model_max_length` set to your preferred value.\n",
      "  warnings.warn(\n"
     ]
    }
   ],
   "source": [
    "import torch\n",
    "from transformers import T5ForConditionalGeneration,T5Tokenizer\n",
    "summary_model = T5ForConditionalGeneration.from_pretrained('t5-base')\n",
    "summary_tokenizer = T5Tokenizer.from_pretrained('t5-base')\n",
    "\n",
    "device = torch.device(\"cuda\" if torch.cuda.is_available() else \"cpu\")\n",
    "summary_model = summary_model.to(device)"
   ]
  },
  {
   "cell_type": "code",
   "execution_count": 16,
   "id": "4f0dce7b",
   "metadata": {},
   "outputs": [],
   "source": [
    "import wikipedia as wiki"
   ]
  },
  {
   "cell_type": "code",
   "execution_count": 73,
   "id": "d63a64f5",
   "metadata": {},
   "outputs": [],
   "source": [
    "sent_tokens = nltk.sent_tokenize(text)\n",
    "word_tokens = nltk.word_tokenize(text)"
   ]
  },
  {
   "cell_type": "code",
   "execution_count": 6,
   "id": "838193c0",
   "metadata": {},
   "outputs": [
    {
     "name": "stdout",
     "output_type": "stream",
     "text": [
      "['\\n pornography devalues sex and can be very seductive and habit-forming and its scripts are quite influencial and also do not show the value of consents, with increasing needs for more sensational material.', 'exposure to pornography also leads to unrealistic expectations later in life.', 'viewing pornography detaches you from the “real world” and real relationships with people.', 'young men who routinely view pornography have to eventually get more and more increasingly hard-core pornography to get sexually stimulus.', 'it turns out there are likely not sperm in pre-ejaculate and what actually accounts for the relatively high failure rate is that the man doesn’t actually pull out.', 'while you cannot get pregnant through oral sex, it is still clearly a sexual act, and most teens who engage in oral sex will proceed to vaginal sex.', 'one problem with oral sex is that the intimacy of sex is removed.', 'many girls often feel used after performing the act.', 'furthermore, virtually all stds can be transmitted through oral sex.', 'and some stds, including genital herpes, syphilis, and chlamydia are easily spread through oral sex as well.', 'having sex is just normal and there should not be any regret if you have taken the consent.', 'technically, no — the time a woman is fertile is mostly limited to a few days each month in the middle of the menstrual cycle, meaning about two weeks from when she started her last period.', 'that said, women may have bleeding during their cycle that is not a true period.', 'if your condom breaks then consider getting tested for stds if you were using it to prevent them.if you’re concerned about getting pregnant, there are three ways to prevent it, explained here in order of effectiveness from most to least.go to your women’s health provider (doctor or midwife, nurse practitioner, or pa) and have a copper iud inserted.']\n",
      "['pornography', 'devalues', 'sex', 'and', 'can', 'be', 'very', 'seductive', 'and', 'habit-forming', 'and', 'its', 'scripts', 'are', 'quite', 'influencial', 'and', 'also', 'do', 'not', 'show', 'the', 'value', 'of', 'consents', ',', 'with', 'increasing', 'needs', 'for', 'more', 'sensational', 'material', '.', 'exposure', 'to', 'pornography', 'also', 'leads', 'to', 'unrealistic', 'expectations', 'later', 'in', 'life', '.', 'viewing', 'pornography', 'detaches', 'you', 'from', 'the', '“', 'real', 'world', '”', 'and', 'real', 'relationships', 'with', 'people', '.', 'young', 'men', 'who', 'routinely', 'view', 'pornography', 'have', 'to', 'eventually', 'get', 'more', 'and', 'more', 'increasingly', 'hard-core', 'pornography', 'to', 'get', 'sexually', 'stimulus', '.', 'it', 'turns', 'out', 'there', 'are', 'likely', 'not', 'sperm', 'in', 'pre-ejaculate', 'and', 'what', 'actually', 'accounts', 'for', 'the', 'relatively', 'high', 'failure', 'rate', 'is', 'that', 'the', 'man', 'doesn', '’', 't', 'actually', 'pull', 'out', '.', 'while', 'you', 'can', 'not', 'get', 'pregnant', 'through', 'oral', 'sex', ',', 'it', 'is', 'still', 'clearly', 'a', 'sexual', 'act', ',', 'and', 'most', 'teens', 'who', 'engage', 'in', 'oral', 'sex', 'will', 'proceed', 'to', 'vaginal', 'sex', '.', 'one', 'problem', 'with', 'oral', 'sex', 'is', 'that', 'the', 'intimacy', 'of', 'sex', 'is', 'removed', '.', 'many', 'girls', 'often', 'feel', 'used', 'after', 'performing', 'the', 'act', '.', 'furthermore', ',', 'virtually', 'all', 'stds', 'can', 'be', 'transmitted', 'through', 'oral', 'sex', '.', 'and', 'some', 'stds', ',', 'including', 'genital', 'herpes', ',', 'syphilis', ',', 'and', 'chlamydia', 'are', 'easily', 'spread', 'through', 'oral', 'sex', 'as', 'well', '.', 'having', 'sex', 'is', 'just', 'normal', 'and', 'there', 'should', 'not', 'be', 'any', 'regret', 'if', 'you', 'have', 'taken', 'the', 'consent', '.', 'technically', ',', 'no', '—', 'the', 'time', 'a', 'woman', 'is', 'fertile', 'is', 'mostly', 'limited', 'to', 'a', 'few', 'days', 'each', 'month', 'in', 'the', 'middle', 'of', 'the', 'menstrual', 'cycle', ',', 'meaning', 'about', 'two', 'weeks', 'from', 'when', 'she', 'started', 'her', 'last', 'period', '.', 'that', 'said', ',', 'women', 'may', 'have', 'bleeding', 'during', 'their', 'cycle', 'that', 'is', 'not', 'a', 'true', 'period', '.', 'if', 'your', 'condom', 'breaks', 'then', 'consider', 'getting', 'tested', 'for', 'stds', 'if', 'you', 'were', 'using', 'it', 'to', 'prevent', 'them.if', 'you', '’', 're', 'concerned', 'about', 'getting', 'pregnant', ',', 'there', 'are', 'three', 'ways', 'to', 'prevent', 'it', ',', 'explained', 'here', 'in', 'order', 'of', 'effectiveness', 'from', 'most', 'to', 'least.go', 'to', 'your', 'women', '’', 's', 'health', 'provider', '(', 'doctor', 'or', 'midwife', ',', 'nurse', 'practitioner', ',', 'or', 'pa', ')', 'and', 'have', 'a', 'copper', 'iud', 'inserted', '.']\n"
     ]
    }
   ],
   "source": [
    "print(sent_tokens)\n",
    "print(word_tokens)"
   ]
  },
  {
   "cell_type": "code",
   "execution_count": 74,
   "id": "3b2da2e2",
   "metadata": {},
   "outputs": [],
   "source": [
    "def LemTokens(tokens):\n",
    "    return [lemmer.lemmatize(token) for token in tokens]\n",
    "# remove_punct_dict = dict((ord(punct), None) for punct in text.punctuation)\n",
    "\n",
    "def LemNormalize(text):\n",
    "    return LemTokens(nltk.word_tokenize(text.lower()))"
   ]
  },
  {
   "cell_type": "code",
   "execution_count": 78,
   "id": "a9e99836",
   "metadata": {},
   "outputs": [],
   "source": [
    "def response(user_response):\n",
    "    robot_response=''\n",
    "    sent_tokens.append(user_response)\n",
    "    TfidfVec = TfidfVectorizer(tokenizer=LemNormalize, stop_words='english')\n",
    "    tfidf = TfidfVec.fit_transform(sent_tokens)\n",
    "    vals = cosine_similarity(tfidf[-1], tfidf)\n",
    "    idx=vals.argsort()[0][-2]\n",
    "    flat = vals.flatten()\n",
    "    flat.sort()\n",
    "    req_tfidf = flat[-2]\n",
    "    if(req_tfidf==0):\n",
    "        li = wiki.search(user_response)\n",
    "        if len(li) != 0:\n",
    "            ele = li[0]\n",
    "            try:\n",
    "                robot_response = wiki.summary(ele)\n",
    "                summarized_text = summarizer(robot_response,summary_model,summary_tokenizer)\n",
    "                robot_response = summarized_text\n",
    "            except:\n",
    "                try:\n",
    "                    robot_response = wiki.summary(user_response)\n",
    "                except:\n",
    "                    print(\"0\")\n",
    "                \n",
    "        robot_response=robot_response+\"At this moment I dont have answer of this question\"\n",
    "        return robot_response\n",
    "    else:\n",
    "        robot_response = robot_response+sent_tokens[idx]\n",
    "        return robot_response"
   ]
  },
  {
   "cell_type": "code",
   "execution_count": 79,
   "id": "5cffd014",
   "metadata": {},
   "outputs": [],
   "source": [
    "GREETING_INPUTS = (\"namastey\",\"hello\", \"hi\", \"Good Day\")\n",
    "GREETING_RESPONSES = [\"namastey\",\"namaskaram\",\"hello\", \"hi\", \"whats up\",\"hey\"]\n",
    "def greeting(sentence):\n",
    " \n",
    "    for word in sentence.split():\n",
    "        if word.lower() in GREETING_INPUTS:\n",
    "            return random.choice(GREETING_RESPONSES)"
   ]
  },
  {
   "cell_type": "code",
   "execution_count": 80,
   "id": "67ee4834",
   "metadata": {},
   "outputs": [
    {
     "name": "stdout",
     "output_type": "stream",
     "text": [
      "Smartbot: Hello I am Smartbot. I am here to answer all your questions regarding sex education.\n",
      "ethics of sex\n",
      "Smartbot: oral sex is sex, vaginal sex is sex, and anal sex is sex.\n",
      "what are abortion pills\n",
      "Smartbot: often called the morning-after pill, emergency contraceptive pills (ecps) are pills that can be taken up to 120 hours (5 days) after having unprotected sex.\n",
      "How to identify a bad touch\n",
      "Smartbot: any time your sexual organs are sexually stimulated by the touch of another person, you’re involved in a form of sexual activity.. while you cannot get pregnant through oral sex, it is still clearly a sexual act, and most teens who engage in oral sex will proceed to vaginal sex.\n",
      "How to use condoms\n",
      "Smartbot: use hygienic sanitary pads should changed 2-3 pads per day in normal flow do not use cloth , sometimes tampoons can also be use provided they are cleaned regularly.\n",
      "what are condoms\n",
      "Smartbot: then, gently roll the condom down the entire shaft of the penis, smoothing out any air bubbles that may appear.\n",
      "how to use condom\n",
      "Smartbot: use hygienic sanitary pads should changed 2-3 pads per day in normal flow do not use cloth , sometimes tampoons can also be use provided they are cleaned regularly.\n",
      "what are sanitary pads\n",
      "Smartbot: use hygienic sanitary pads should changed 2-3 pads per day in normal flow do not use cloth , sometimes tampoons can also be use provided they are cleaned regularly.\n",
      "what is a menstrual cycle\n",
      "Smartbot: there is nothing wrong or dangerous about having sex during your menstrual cycle.\n",
      "Should we have sex using menstrual cycle\n",
      "Smartbot: there is nothing wrong or dangerous about having sex during your menstrual cycle.\n",
      "Can gay people have kids\n",
      "Smartbot: viewing pornography detaches you from the “real world” and real relationships with people.\n",
      "what is an unprotected sex\n",
      "Smartbot: - emergency contraception is a way to prevent pregnancy after unprotected sex.\n",
      "what is a gay sex\n",
      "Smartbot: oral sex is sex, vaginal sex is sex, and anal sex is sex.\n",
      "what is sex?\n",
      "Smartbot: oral sex is sex, vaginal sex is sex, and anal sex is sex.\n",
      "what is a pre cum\n",
      "Smartbot: Bulbourethral glands are homologous to bartholin's gland in females. They are responsible for producing a pre-ejaculate fluid called cowper’s fluid, which is secreted during sexual sex, neutralizing the acidity of the urethra in preparation for the passage of sperm cells. The gland is thought to be the most important organ in the reproductive system of male mammals.At this moment I dont have answer of this question\n",
      "does sex helps in mind relaxation\n",
      "Smartbot: their bodies are mature by then, but their minds are not.\n",
      "what is the appropriate time for abotion\n",
      "Smartbot: sometimes the pressure of having sex for the very first time might get to you and you could suffer erection issues or premature ejaculation and during this sexual arousal, well-oxygenated blood is supplied to your genitals and breasts.\n",
      "what is the correct time for abortion\n",
      "Smartbot: during the pregnancy 1st and 3rd trimester it should avoided and the risk of abortion increases if intercourse is done between this period.. white discharge , lower abdominal pain , ulcerations , dypernunia.\n",
      "what is an inappropriate touch\n",
      "Smartbot: any time your sexual organs are sexually stimulated by the touch of another person, you’re involved in a form of sexual activity.. while you cannot get pregnant through oral sex, it is still clearly a sexual act, and most teens who engage in oral sex will proceed to vaginal sex.\n",
      "is oral sex safe\n",
      "Smartbot: oral sex is sex, vaginal sex is sex, and anal sex is sex.\n",
      "what is a sex toy\n",
      "Smartbot: oral sex is sex, vaginal sex is sex, and anal sex is sex.\n",
      "what toys are used for sex\n",
      "Smartbot: oral sex is sex, vaginal sex is sex, and anal sex is sex.\n",
      "how to maintain genital hygiene\n",
      "Smartbot: washing may disrupt this ph resulting in the entry of unwanted infectious organisms.always clean the vulva or genital area before the anal region to prevent the entry of harmful organisms from the anus into the genitals.while cleaning your genital area with a tissue or even while wiping it dry with a towel, always pat dry and then go from front to back with a single stroke.\n",
      "can sex make you weak\n",
      "Smartbot: oral sex is sex, vaginal sex is sex, and anal sex is sex.\n",
      "will menstruation cause anemia\n",
      "Smartbot: this prevents the contamination of the genitals with organisms from the anus that are known to cause urinary tract infections amongst others.avoid cleaning your genitals with hot or warm water, as doing so may result in dryness and irritation.\n",
      "is sex against our values\n",
      "Smartbot: oral sex is sex, vaginal sex is sex, and anal sex is sex.\n",
      "ethics of sex\n",
      "Smartbot: oral sex is sex, vaginal sex is sex, and anal sex is sex.\n",
      "is viagra safe\n",
      "Smartbot: in some rare cases, if the blood is darker in colour, it could be some old menstrual blood coming out from the uterus.. viagra is not absolutely safe but is used to be taken to cure erectile dysfunction.\n"
     ]
    },
    {
     "ename": "KeyboardInterrupt",
     "evalue": "Interrupted by user",
     "output_type": "error",
     "traceback": [
      "\u001b[1;31m---------------------------------------------------------------------------\u001b[0m",
      "\u001b[1;31mKeyboardInterrupt\u001b[0m                         Traceback (most recent call last)",
      "\u001b[1;32m~\\AppData\\Local\\Temp/ipykernel_15684/2397651079.py\u001b[0m in \u001b[0;36m<module>\u001b[1;34m\u001b[0m\n\u001b[0;32m      2\u001b[0m \u001b[0mprint\u001b[0m\u001b[1;33m(\u001b[0m\u001b[1;34m\"Smartbot: Hello I am Smartbot. I am here to answer all your questions regarding sex education.\"\u001b[0m\u001b[1;33m)\u001b[0m\u001b[1;33m\u001b[0m\u001b[1;33m\u001b[0m\u001b[0m\n\u001b[0;32m      3\u001b[0m \u001b[1;32mwhile\u001b[0m\u001b[1;33m(\u001b[0m\u001b[0mflag\u001b[0m\u001b[1;33m==\u001b[0m\u001b[1;32mTrue\u001b[0m\u001b[1;33m)\u001b[0m\u001b[1;33m:\u001b[0m\u001b[1;33m\u001b[0m\u001b[1;33m\u001b[0m\u001b[0m\n\u001b[1;32m----> 4\u001b[1;33m     \u001b[0muser_response\u001b[0m \u001b[1;33m=\u001b[0m \u001b[0minput\u001b[0m\u001b[1;33m(\u001b[0m\u001b[1;33m)\u001b[0m\u001b[1;33m\u001b[0m\u001b[1;33m\u001b[0m\u001b[0m\n\u001b[0m\u001b[0;32m      5\u001b[0m     \u001b[0muser_response\u001b[0m\u001b[1;33m=\u001b[0m\u001b[0muser_response\u001b[0m\u001b[1;33m.\u001b[0m\u001b[0mlower\u001b[0m\u001b[1;33m(\u001b[0m\u001b[1;33m)\u001b[0m\u001b[1;33m\u001b[0m\u001b[1;33m\u001b[0m\u001b[0m\n\u001b[0;32m      6\u001b[0m     \u001b[1;32mif\u001b[0m\u001b[1;33m(\u001b[0m\u001b[0muser_response\u001b[0m\u001b[1;33m!=\u001b[0m\u001b[1;34m'bye!!'\u001b[0m\u001b[1;33m)\u001b[0m\u001b[1;33m:\u001b[0m\u001b[1;33m\u001b[0m\u001b[1;33m\u001b[0m\u001b[0m\n",
      "\u001b[1;32m~\\AppData\\Local\\Programs\\Python\\Python39\\lib\\site-packages\\ipykernel\\kernelbase.py\u001b[0m in \u001b[0;36mraw_input\u001b[1;34m(self, prompt)\u001b[0m\n\u001b[0;32m   1004\u001b[0m                 \u001b[1;34m\"raw_input was called, but this frontend does not support input requests.\"\u001b[0m\u001b[1;33m\u001b[0m\u001b[1;33m\u001b[0m\u001b[0m\n\u001b[0;32m   1005\u001b[0m             )\n\u001b[1;32m-> 1006\u001b[1;33m         return self._input_request(\n\u001b[0m\u001b[0;32m   1007\u001b[0m             \u001b[0mstr\u001b[0m\u001b[1;33m(\u001b[0m\u001b[0mprompt\u001b[0m\u001b[1;33m)\u001b[0m\u001b[1;33m,\u001b[0m\u001b[1;33m\u001b[0m\u001b[1;33m\u001b[0m\u001b[0m\n\u001b[0;32m   1008\u001b[0m             \u001b[0mself\u001b[0m\u001b[1;33m.\u001b[0m\u001b[0m_parent_ident\u001b[0m\u001b[1;33m[\u001b[0m\u001b[1;34m\"shell\"\u001b[0m\u001b[1;33m]\u001b[0m\u001b[1;33m,\u001b[0m\u001b[1;33m\u001b[0m\u001b[1;33m\u001b[0m\u001b[0m\n",
      "\u001b[1;32m~\\AppData\\Local\\Programs\\Python\\Python39\\lib\\site-packages\\ipykernel\\kernelbase.py\u001b[0m in \u001b[0;36m_input_request\u001b[1;34m(self, prompt, ident, parent, password)\u001b[0m\n\u001b[0;32m   1049\u001b[0m             \u001b[1;32mexcept\u001b[0m \u001b[0mKeyboardInterrupt\u001b[0m\u001b[1;33m:\u001b[0m\u001b[1;33m\u001b[0m\u001b[1;33m\u001b[0m\u001b[0m\n\u001b[0;32m   1050\u001b[0m                 \u001b[1;31m# re-raise KeyboardInterrupt, to truncate traceback\u001b[0m\u001b[1;33m\u001b[0m\u001b[1;33m\u001b[0m\u001b[0m\n\u001b[1;32m-> 1051\u001b[1;33m                 \u001b[1;32mraise\u001b[0m \u001b[0mKeyboardInterrupt\u001b[0m\u001b[1;33m(\u001b[0m\u001b[1;34m\"Interrupted by user\"\u001b[0m\u001b[1;33m)\u001b[0m \u001b[1;32mfrom\u001b[0m \u001b[1;32mNone\u001b[0m\u001b[1;33m\u001b[0m\u001b[1;33m\u001b[0m\u001b[0m\n\u001b[0m\u001b[0;32m   1052\u001b[0m             \u001b[1;32mexcept\u001b[0m \u001b[0mException\u001b[0m\u001b[1;33m:\u001b[0m\u001b[1;33m\u001b[0m\u001b[1;33m\u001b[0m\u001b[0m\n\u001b[0;32m   1053\u001b[0m                 \u001b[0mself\u001b[0m\u001b[1;33m.\u001b[0m\u001b[0mlog\u001b[0m\u001b[1;33m.\u001b[0m\u001b[0mwarning\u001b[0m\u001b[1;33m(\u001b[0m\u001b[1;34m\"Invalid Message:\"\u001b[0m\u001b[1;33m,\u001b[0m \u001b[0mexc_info\u001b[0m\u001b[1;33m=\u001b[0m\u001b[1;32mTrue\u001b[0m\u001b[1;33m)\u001b[0m\u001b[1;33m\u001b[0m\u001b[1;33m\u001b[0m\u001b[0m\n",
      "\u001b[1;31mKeyboardInterrupt\u001b[0m: Interrupted by user"
     ]
    }
   ],
   "source": [
    "flag=True\n",
    "print(\"Smartbot: Hello I am Smartbot. I am here to answer all your questions regarding sex education.\")\n",
    "while(flag==True):\n",
    "    user_response = input()\n",
    "    user_response=user_response.lower()\n",
    "    if(user_response!='bye!!'):\n",
    "        if(user_response=='thanks' or user_response=='thank you' ):\n",
    "            flag=False\n",
    "            print(\"Smartbot: My Pleasure\")\n",
    "        else:\n",
    "            if(greeting(user_response)!=None):\n",
    "                print(\"Smartbot: \"+greeting(user_response))\n",
    "            else:\n",
    "                print(\"Smartbot: \",end=\"\")\n",
    "                print(response(user_response))\n",
    "                sent_tokens.remove(user_response)\n",
    "    else:\n",
    "        flag=False\n",
    "        print(\"Smartbot: take care..\")"
   ]
  },
  {
   "cell_type": "code",
   "execution_count": 86,
   "id": "8520b82d",
   "metadata": {},
   "outputs": [],
   "source": [
    "def predicter(input, history=[]):\n",
    "    \n",
    "    input = input\n",
    "    history.append(input)\n",
    "    if(input!='bye!!'):\n",
    "        if(input=='thanks' or input =='thank you' ):\n",
    "#             flag=False\n",
    "            history.append(\"Smartbot: My Pleasure\")\n",
    "        else:\n",
    "            if(greeting(input)!=None):\n",
    "                history.append(\"Smartbot: \"+greeting(input))\n",
    "            else:\n",
    "                history.append(\"Smartbot: \" + response(input))\n",
    "#                 print(response(input))\n",
    "                sent_tokens.remove(input)\n",
    "    else:\n",
    "#         flag=False\n",
    "        history.append(\"Smartbot: take care..\")\n",
    "    \n",
    "    responses = [(history[i], history[i+1]) for i in range(0, len(history)-1, 2)]\n",
    "    \n",
    "#     # tokenize the new input sentence\n",
    "#     new_user_input_ids = tokenizer.encode(input + tokenizer.eos_token, return_tensors='pt')\n",
    "\n",
    "#     # append the new user input tokens to the chat history\n",
    "#     bot_input_ids = torch.cat([torch.LongTensor(history), new_user_input_ids], dim=-1)\n",
    "\n",
    "#     # generate a response \n",
    "#     history = model.generate(bot_input_ids, max_length=10000, pad_token_id=tokenizer.eos_token_id).tolist()\n",
    "\n",
    "#     # convert the tokens to text, and then split the responses into lines\n",
    "#     response = tokenizer.decode(history[0]).split(\"<|endoftext|>\")\n",
    "#     response = [(response[i], response[i+1]) for i in range(0, len(response)-1, 2)]  # convert to tuples of list\n",
    "# #     if response == \"I don't know\":\n",
    "# #         return \"Bahut bakwas model hein ye\", history\n",
    "# #     print(response)\n",
    "    return responses, history"
   ]
  },
  {
   "cell_type": "code",
   "execution_count": 15,
   "id": "594a98be",
   "metadata": {},
   "outputs": [
    {
     "name": "stdout",
     "output_type": "stream",
     "text": [
      "Collecting wikipedia\n",
      "  Downloading wikipedia-1.4.0.tar.gz (27 kB)\n",
      "  Preparing metadata (setup.py): started\n",
      "  Preparing metadata (setup.py): finished with status 'done'\n",
      "Requirement already satisfied: beautifulsoup4 in c:\\users\\subho\\appdata\\local\\programs\\python\\python39\\lib\\site-packages (from wikipedia) (4.10.0)\n",
      "Requirement already satisfied: requests<3.0.0,>=2.0.0 in c:\\users\\subho\\appdata\\local\\programs\\python\\python39\\lib\\site-packages (from wikipedia) (2.26.0)\n",
      "Requirement already satisfied: charset-normalizer~=2.0.0 in c:\\users\\subho\\appdata\\local\\programs\\python\\python39\\lib\\site-packages (from requests<3.0.0,>=2.0.0->wikipedia) (2.0.7)\n",
      "Requirement already satisfied: certifi>=2017.4.17 in c:\\users\\subho\\appdata\\local\\programs\\python\\python39\\lib\\site-packages (from requests<3.0.0,>=2.0.0->wikipedia) (2021.10.8)\n",
      "Requirement already satisfied: idna<4,>=2.5 in c:\\users\\subho\\appdata\\local\\programs\\python\\python39\\lib\\site-packages (from requests<3.0.0,>=2.0.0->wikipedia) (3.3)\n",
      "Requirement already satisfied: urllib3<1.27,>=1.21.1 in c:\\users\\subho\\appdata\\local\\programs\\python\\python39\\lib\\site-packages (from requests<3.0.0,>=2.0.0->wikipedia) (1.26.7)\n",
      "Requirement already satisfied: soupsieve>1.2 in c:\\users\\subho\\appdata\\local\\programs\\python\\python39\\lib\\site-packages (from beautifulsoup4->wikipedia) (2.3)\n",
      "Building wheels for collected packages: wikipedia\n",
      "  Building wheel for wikipedia (setup.py): started\n",
      "  Building wheel for wikipedia (setup.py): finished with status 'done'\n",
      "  Created wheel for wikipedia: filename=wikipedia-1.4.0-py3-none-any.whl size=11695 sha256=15c1083ecf3d6a71af3b5f03b607e662a17f8b7cfd3064e4a36e91d1b3b1f43e\n",
      "  Stored in directory: c:\\users\\subho\\appdata\\local\\pip\\cache\\wheels\\c2\\46\\f4\\caa1bee71096d7b0cdca2f2a2af45cacf35c5760bee8f00948\n",
      "Successfully built wikipedia\n",
      "Installing collected packages: wikipedia\n",
      "Successfully installed wikipedia-1.4.0\n"
     ]
    }
   ],
   "source": [
    "!pip install wikipedia"
   ]
  },
  {
   "cell_type": "code",
   "execution_count": 58,
   "id": "a22287db",
   "metadata": {},
   "outputs": [
    {
     "data": {
      "text/plain": [
       "['Roe v. Wade',\n",
       " 'Abortion law in the United States by state',\n",
       " 'Abortion-rights movements',\n",
       " 'Abortion debate',\n",
       " 'Abortion in Florida',\n",
       " \"Dobbs v. Jackson Women's Health Organization\",\n",
       " 'Abortion in the United States',\n",
       " 'United States anti-abortion movement',\n",
       " 'Islam and abortion',\n",
       " 'Abortion in Kansas']"
      ]
     },
     "execution_count": 58,
     "metadata": {},
     "output_type": "execute_result"
    }
   ],
   "source": [
    "wiki.search(\"What is the right time for abortion\")"
   ]
  },
  {
   "cell_type": "code",
   "execution_count": null,
   "id": "5f61b005",
   "metadata": {},
   "outputs": [],
   "source": [
    "wiki_text = wiki.summary(\"what is oral sex\")"
   ]
  },
  {
   "cell_type": "code",
   "execution_count": 61,
   "id": "fb267ab6",
   "metadata": {},
   "outputs": [
    {
     "ename": "PageError",
     "evalue": "Page id \"onal sex\" does not match any pages. Try another id!",
     "output_type": "error",
     "traceback": [
      "\u001b[1;31m---------------------------------------------------------------------------\u001b[0m",
      "\u001b[1;31mPageError\u001b[0m                                 Traceback (most recent call last)",
      "\u001b[1;32m~\\AppData\\Local\\Temp/ipykernel_15684/1514613608.py\u001b[0m in \u001b[0;36m<module>\u001b[1;34m\u001b[0m\n\u001b[1;32m----> 1\u001b[1;33m \u001b[0mwiki_text\u001b[0m \u001b[1;33m=\u001b[0m \u001b[0mwiki\u001b[0m\u001b[1;33m.\u001b[0m\u001b[0msummary\u001b[0m\u001b[1;33m(\u001b[0m\u001b[0mwiki\u001b[0m\u001b[1;33m.\u001b[0m\u001b[0msearch\u001b[0m\u001b[1;33m(\u001b[0m\u001b[1;34m\"Oral sex\"\u001b[0m\u001b[1;33m)\u001b[0m\u001b[1;33m[\u001b[0m\u001b[1;36m0\u001b[0m\u001b[1;33m]\u001b[0m\u001b[1;33m)\u001b[0m\u001b[1;33m\u001b[0m\u001b[1;33m\u001b[0m\u001b[0m\n\u001b[0m",
      "\u001b[1;32m~\\AppData\\Local\\Programs\\Python\\Python39\\lib\\site-packages\\wikipedia\\util.py\u001b[0m in \u001b[0;36m__call__\u001b[1;34m(self, *args, **kwargs)\u001b[0m\n\u001b[0;32m     26\u001b[0m       \u001b[0mret\u001b[0m \u001b[1;33m=\u001b[0m \u001b[0mself\u001b[0m\u001b[1;33m.\u001b[0m\u001b[0m_cache\u001b[0m\u001b[1;33m[\u001b[0m\u001b[0mkey\u001b[0m\u001b[1;33m]\u001b[0m\u001b[1;33m\u001b[0m\u001b[1;33m\u001b[0m\u001b[0m\n\u001b[0;32m     27\u001b[0m     \u001b[1;32melse\u001b[0m\u001b[1;33m:\u001b[0m\u001b[1;33m\u001b[0m\u001b[1;33m\u001b[0m\u001b[0m\n\u001b[1;32m---> 28\u001b[1;33m       \u001b[0mret\u001b[0m \u001b[1;33m=\u001b[0m \u001b[0mself\u001b[0m\u001b[1;33m.\u001b[0m\u001b[0m_cache\u001b[0m\u001b[1;33m[\u001b[0m\u001b[0mkey\u001b[0m\u001b[1;33m]\u001b[0m \u001b[1;33m=\u001b[0m \u001b[0mself\u001b[0m\u001b[1;33m.\u001b[0m\u001b[0mfn\u001b[0m\u001b[1;33m(\u001b[0m\u001b[1;33m*\u001b[0m\u001b[0margs\u001b[0m\u001b[1;33m,\u001b[0m \u001b[1;33m**\u001b[0m\u001b[0mkwargs\u001b[0m\u001b[1;33m)\u001b[0m\u001b[1;33m\u001b[0m\u001b[1;33m\u001b[0m\u001b[0m\n\u001b[0m\u001b[0;32m     29\u001b[0m \u001b[1;33m\u001b[0m\u001b[0m\n\u001b[0;32m     30\u001b[0m     \u001b[1;32mreturn\u001b[0m \u001b[0mret\u001b[0m\u001b[1;33m\u001b[0m\u001b[1;33m\u001b[0m\u001b[0m\n",
      "\u001b[1;32m~\\AppData\\Local\\Programs\\Python\\Python39\\lib\\site-packages\\wikipedia\\wikipedia.py\u001b[0m in \u001b[0;36msummary\u001b[1;34m(title, sentences, chars, auto_suggest, redirect)\u001b[0m\n\u001b[0;32m    229\u001b[0m   \u001b[1;31m# use auto_suggest and redirect to get the correct article\u001b[0m\u001b[1;33m\u001b[0m\u001b[1;33m\u001b[0m\u001b[0m\n\u001b[0;32m    230\u001b[0m   \u001b[1;31m# also, use page's error checking to raise DisambiguationError if necessary\u001b[0m\u001b[1;33m\u001b[0m\u001b[1;33m\u001b[0m\u001b[0m\n\u001b[1;32m--> 231\u001b[1;33m   \u001b[0mpage_info\u001b[0m \u001b[1;33m=\u001b[0m \u001b[0mpage\u001b[0m\u001b[1;33m(\u001b[0m\u001b[0mtitle\u001b[0m\u001b[1;33m,\u001b[0m \u001b[0mauto_suggest\u001b[0m\u001b[1;33m=\u001b[0m\u001b[0mauto_suggest\u001b[0m\u001b[1;33m,\u001b[0m \u001b[0mredirect\u001b[0m\u001b[1;33m=\u001b[0m\u001b[0mredirect\u001b[0m\u001b[1;33m)\u001b[0m\u001b[1;33m\u001b[0m\u001b[1;33m\u001b[0m\u001b[0m\n\u001b[0m\u001b[0;32m    232\u001b[0m   \u001b[0mtitle\u001b[0m \u001b[1;33m=\u001b[0m \u001b[0mpage_info\u001b[0m\u001b[1;33m.\u001b[0m\u001b[0mtitle\u001b[0m\u001b[1;33m\u001b[0m\u001b[1;33m\u001b[0m\u001b[0m\n\u001b[0;32m    233\u001b[0m   \u001b[0mpageid\u001b[0m \u001b[1;33m=\u001b[0m \u001b[0mpage_info\u001b[0m\u001b[1;33m.\u001b[0m\u001b[0mpageid\u001b[0m\u001b[1;33m\u001b[0m\u001b[1;33m\u001b[0m\u001b[0m\n",
      "\u001b[1;32m~\\AppData\\Local\\Programs\\Python\\Python39\\lib\\site-packages\\wikipedia\\wikipedia.py\u001b[0m in \u001b[0;36mpage\u001b[1;34m(title, pageid, auto_suggest, redirect, preload)\u001b[0m\n\u001b[0;32m    274\u001b[0m         \u001b[1;31m# if there is no suggestion or search results, the page doesn't exist\u001b[0m\u001b[1;33m\u001b[0m\u001b[1;33m\u001b[0m\u001b[0m\n\u001b[0;32m    275\u001b[0m         \u001b[1;32mraise\u001b[0m \u001b[0mPageError\u001b[0m\u001b[1;33m(\u001b[0m\u001b[0mtitle\u001b[0m\u001b[1;33m)\u001b[0m\u001b[1;33m\u001b[0m\u001b[1;33m\u001b[0m\u001b[0m\n\u001b[1;32m--> 276\u001b[1;33m     \u001b[1;32mreturn\u001b[0m \u001b[0mWikipediaPage\u001b[0m\u001b[1;33m(\u001b[0m\u001b[0mtitle\u001b[0m\u001b[1;33m,\u001b[0m \u001b[0mredirect\u001b[0m\u001b[1;33m=\u001b[0m\u001b[0mredirect\u001b[0m\u001b[1;33m,\u001b[0m \u001b[0mpreload\u001b[0m\u001b[1;33m=\u001b[0m\u001b[0mpreload\u001b[0m\u001b[1;33m)\u001b[0m\u001b[1;33m\u001b[0m\u001b[1;33m\u001b[0m\u001b[0m\n\u001b[0m\u001b[0;32m    277\u001b[0m   \u001b[1;32melif\u001b[0m \u001b[0mpageid\u001b[0m \u001b[1;32mis\u001b[0m \u001b[1;32mnot\u001b[0m \u001b[1;32mNone\u001b[0m\u001b[1;33m:\u001b[0m\u001b[1;33m\u001b[0m\u001b[1;33m\u001b[0m\u001b[0m\n\u001b[0;32m    278\u001b[0m     \u001b[1;32mreturn\u001b[0m \u001b[0mWikipediaPage\u001b[0m\u001b[1;33m(\u001b[0m\u001b[0mpageid\u001b[0m\u001b[1;33m=\u001b[0m\u001b[0mpageid\u001b[0m\u001b[1;33m,\u001b[0m \u001b[0mpreload\u001b[0m\u001b[1;33m=\u001b[0m\u001b[0mpreload\u001b[0m\u001b[1;33m)\u001b[0m\u001b[1;33m\u001b[0m\u001b[1;33m\u001b[0m\u001b[0m\n",
      "\u001b[1;32m~\\AppData\\Local\\Programs\\Python\\Python39\\lib\\site-packages\\wikipedia\\wikipedia.py\u001b[0m in \u001b[0;36m__init__\u001b[1;34m(self, title, pageid, redirect, preload, original_title)\u001b[0m\n\u001b[0;32m    297\u001b[0m       \u001b[1;32mraise\u001b[0m \u001b[0mValueError\u001b[0m\u001b[1;33m(\u001b[0m\u001b[1;34m\"Either a title or a pageid must be specified\"\u001b[0m\u001b[1;33m)\u001b[0m\u001b[1;33m\u001b[0m\u001b[1;33m\u001b[0m\u001b[0m\n\u001b[0;32m    298\u001b[0m \u001b[1;33m\u001b[0m\u001b[0m\n\u001b[1;32m--> 299\u001b[1;33m     \u001b[0mself\u001b[0m\u001b[1;33m.\u001b[0m\u001b[0m__load\u001b[0m\u001b[1;33m(\u001b[0m\u001b[0mredirect\u001b[0m\u001b[1;33m=\u001b[0m\u001b[0mredirect\u001b[0m\u001b[1;33m,\u001b[0m \u001b[0mpreload\u001b[0m\u001b[1;33m=\u001b[0m\u001b[0mpreload\u001b[0m\u001b[1;33m)\u001b[0m\u001b[1;33m\u001b[0m\u001b[1;33m\u001b[0m\u001b[0m\n\u001b[0m\u001b[0;32m    300\u001b[0m \u001b[1;33m\u001b[0m\u001b[0m\n\u001b[0;32m    301\u001b[0m     \u001b[1;32mif\u001b[0m \u001b[0mpreload\u001b[0m\u001b[1;33m:\u001b[0m\u001b[1;33m\u001b[0m\u001b[1;33m\u001b[0m\u001b[0m\n",
      "\u001b[1;32m~\\AppData\\Local\\Programs\\Python\\Python39\\lib\\site-packages\\wikipedia\\wikipedia.py\u001b[0m in \u001b[0;36m__load\u001b[1;34m(self, redirect, preload)\u001b[0m\n\u001b[0;32m    343\u001b[0m     \u001b[1;32mif\u001b[0m \u001b[1;34m'missing'\u001b[0m \u001b[1;32min\u001b[0m \u001b[0mpage\u001b[0m\u001b[1;33m:\u001b[0m\u001b[1;33m\u001b[0m\u001b[1;33m\u001b[0m\u001b[0m\n\u001b[0;32m    344\u001b[0m       \u001b[1;32mif\u001b[0m \u001b[0mhasattr\u001b[0m\u001b[1;33m(\u001b[0m\u001b[0mself\u001b[0m\u001b[1;33m,\u001b[0m \u001b[1;34m'title'\u001b[0m\u001b[1;33m)\u001b[0m\u001b[1;33m:\u001b[0m\u001b[1;33m\u001b[0m\u001b[1;33m\u001b[0m\u001b[0m\n\u001b[1;32m--> 345\u001b[1;33m         \u001b[1;32mraise\u001b[0m \u001b[0mPageError\u001b[0m\u001b[1;33m(\u001b[0m\u001b[0mself\u001b[0m\u001b[1;33m.\u001b[0m\u001b[0mtitle\u001b[0m\u001b[1;33m)\u001b[0m\u001b[1;33m\u001b[0m\u001b[1;33m\u001b[0m\u001b[0m\n\u001b[0m\u001b[0;32m    346\u001b[0m       \u001b[1;32melse\u001b[0m\u001b[1;33m:\u001b[0m\u001b[1;33m\u001b[0m\u001b[1;33m\u001b[0m\u001b[0m\n\u001b[0;32m    347\u001b[0m         \u001b[1;32mraise\u001b[0m \u001b[0mPageError\u001b[0m\u001b[1;33m(\u001b[0m\u001b[0mpageid\u001b[0m\u001b[1;33m=\u001b[0m\u001b[0mself\u001b[0m\u001b[1;33m.\u001b[0m\u001b[0mpageid\u001b[0m\u001b[1;33m)\u001b[0m\u001b[1;33m\u001b[0m\u001b[1;33m\u001b[0m\u001b[0m\n",
      "\u001b[1;31mPageError\u001b[0m: Page id \"onal sex\" does not match any pages. Try another id!"
     ]
    }
   ],
   "source": [
    "wiki_text = wiki.summary(wiki.search(\"Oral sex\")[0])"
   ]
  },
  {
   "cell_type": "code",
   "execution_count": 49,
   "id": "c3ede5dd",
   "metadata": {},
   "outputs": [
    {
     "name": "stderr",
     "output_type": "stream",
     "text": [
      "Global seed set to 30\n"
     ]
    },
    {
     "data": {
      "text/plain": [
       "30"
      ]
     },
     "execution_count": 49,
     "metadata": {},
     "output_type": "execute_result"
    }
   ],
   "source": [
    "import pytorch_lightning as pl\n",
    "pl.seed_everything(30)"
   ]
  },
  {
   "cell_type": "code",
   "execution_count": 43,
   "id": "2b611a7c",
   "metadata": {},
   "outputs": [],
   "source": [
    "import spacy"
   ]
  },
  {
   "cell_type": "code",
   "execution_count": 45,
   "id": "67d29d34",
   "metadata": {},
   "outputs": [],
   "source": [
    "vm = torch.device(\"cuda\" if torch.cuda.is_available() else \"cpu\")\n",
    "summary_model = summary_model.to(vm)"
   ]
  },
  {
   "cell_type": "code",
   "execution_count": null,
   "id": "032d3fbe",
   "metadata": {},
   "outputs": [],
   "source": []
  },
  {
   "cell_type": "code",
   "execution_count": 65,
   "id": "1026360d",
   "metadata": {},
   "outputs": [
    {
     "name": "stderr",
     "output_type": "stream",
     "text": [
      "[nltk_data] Downloading package punkt to\n",
      "[nltk_data]     C:\\Users\\subho\\AppData\\Roaming\\nltk_data...\n",
      "[nltk_data]   Package punkt is already up-to-date!\n",
      "[nltk_data] Downloading package brown to\n",
      "[nltk_data]     C:\\Users\\subho\\AppData\\Roaming\\nltk_data...\n",
      "[nltk_data]   Package brown is already up-to-date!\n",
      "[nltk_data] Downloading package wordnet to\n",
      "[nltk_data]     C:\\Users\\subho\\AppData\\Roaming\\nltk_data...\n",
      "[nltk_data]   Package wordnet is already up-to-date!\n"
     ]
    },
    {
     "name": "stdout",
     "output_type": "stream",
     "text": [
      "Cunnilingus is oral sex performed on the vulva or vagina. Fellatio is oral stimulation of the penis and anilngus, another form of oral intercourse, is an anus oral stimulation. Oral stimuli of other parts of body, such as kissing or licking, are not considered oral sexual activity. Edward mccaffery, dr. martin o'neill and jimmy walker are both experts on oral\n"
     ]
    }
   ],
   "source": [
    "import nltk\n",
    "nltk.download('punkt')\n",
    "nltk.download('brown')\n",
    "nltk.download('wordnet')\n",
    "from nltk.corpus import wordnet as wn\n",
    "from nltk.tokenize import sent_tokenize\n",
    "\n",
    "def postprocesstext (content):\n",
    "  final=\"\"\n",
    "  for sent in sent_tokenize(content):\n",
    "    sent = sent.capitalize()\n",
    "    final = final +\" \"+sent\n",
    "  return final\n",
    "\n",
    "\n",
    "def summarizer(text,model,tokenizer):\n",
    "  text = text.strip().replace(\"\\n\",\" \")\n",
    "  text = \"summarize: \"+text\n",
    "  # print (text)\n",
    "  max_len = 200\n",
    "  encoding = tokenizer.encode_plus(text,max_length=max_len, pad_to_max_length=False,truncation=True, return_tensors=\"pt\").to(vm)\n",
    "\n",
    "  input_ids, attention_mask = encoding[\"input_ids\"], encoding[\"attention_mask\"]\n",
    "\n",
    "  outs = model.generate(input_ids=input_ids,\n",
    "                                  attention_mask=attention_mask,\n",
    "                                  early_stopping=True,\n",
    "                                  num_beams=3,\n",
    "                                  num_return_sequences=1,\n",
    "                                  no_repeat_ngram_size=2,\n",
    "                                  min_length = 80,\n",
    "                                  max_length=300)\n",
    "\n",
    "\n",
    "  dec = [tokenizer.decode(ids,skip_special_tokens=True) for ids in outs]\n",
    "  summary = dec[0]\n",
    "  summary = postprocesstext(summary)\n",
    "  summary= summary.strip()\n",
    "\n",
    "  return summary\n",
    "\n",
    "\n",
    "summarized_text = summarizer(wiki_text,summary_model,summary_tokenizer)\n",
    "print(summarized_text)"
   ]
  },
  {
   "cell_type": "code",
   "execution_count": 42,
   "id": "84210b07",
   "metadata": {},
   "outputs": [
    {
     "name": "stdout",
     "output_type": "stream",
     "text": [
      "['▁The', '▁legal', 'ity', '▁of', '▁abortion', '▁in', '▁the', '▁United', '▁States', '▁and', '▁the', '▁various', '▁restrictions', '▁', 'imposed', '▁on', '▁the', '▁procedure', '▁vary', '▁significantly', '▁depending', '▁on', '▁the', '▁laws', '▁of', '▁each', '▁state', '▁or', '▁other', '▁jurisdiction', '.', '▁Some', '▁states', '▁prohibit', '▁abortion', '▁at', '▁all', '▁stages', '▁of', '▁pregnancy', '▁with', '▁few', '▁exception', 's', ',', '▁others', '▁permit', '▁it', '▁up', '▁to', '▁', 'a', '▁certain', '▁point', '▁in', '▁', 'a', '▁woman', \"'\", 's', '▁pregnancy', ',', '▁while', '▁others', '▁allow', '▁abortion', '▁throughout', '▁', 'a', '▁woman', \"'\", 's', '▁pregnancy', '.', '▁In', '▁states', '▁where', '▁abortion', '▁is', '▁legal', ',', '▁several', '▁classes', '▁of', '▁restrictions', '▁on', '▁the', '▁procedure', '▁may', '▁exist', ',', '▁such', '▁as', '▁parental', '▁consent', '▁or', '▁notification', '▁laws', ',', '</s>']\n"
     ]
    }
   ],
   "source": [
    "sample = summary_tokenizer.encode_plus(wiki_text,\n",
    "                                       max_length = 100,\n",
    "                                       padding = 'max_length',\n",
    "                                       truncation = True,\n",
    "                                       return_tensors = 'pt')\n",
    "decoded_output = summary_tokenizer.convert_ids_to_tokens(sample[\"input_ids\"].squeeze())\n",
    "print(decoded_output)"
   ]
  },
  {
   "cell_type": "code",
   "execution_count": 21,
   "id": "2d8e562b",
   "metadata": {},
   "outputs": [
    {
     "data": {
      "text/plain": [
       "['Kaziranga National Park',\n",
       " 'History of Kaziranga National Park',\n",
       " 'Tourism in Kaziranga National Park',\n",
       " 'Geography of Kaziranga National Park',\n",
       " 'List of mammals of Kaziranga National Park',\n",
       " 'Fauna of Kaziranga National Park',\n",
       " 'List of birds of Kaziranga National Park',\n",
       " 'List of national parks of India',\n",
       " 'Governance of Kaziranga National Park',\n",
       " 'List of reptiles of Kaziranga National Park']"
      ]
     },
     "execution_count": 21,
     "metadata": {},
     "output_type": "execute_result"
    }
   ],
   "source": [
    "wiki.search(\"Kaziranga National Park\")"
   ]
  },
  {
   "cell_type": "code",
   "execution_count": 24,
   "id": "5921818f",
   "metadata": {},
   "outputs": [
    {
     "name": "stdout",
     "output_type": "stream",
     "text": [
      "Requirement already satisfied: transformers in c:\\users\\subho\\appdata\\local\\programs\\python\\python39\\lib\\site-packages (4.21.1)\n",
      "Requirement already satisfied: packaging>=20.0 in c:\\users\\subho\\appdata\\local\\programs\\python\\python39\\lib\\site-packages (from transformers) (21.0)\n",
      "Requirement already satisfied: filelock in c:\\users\\subho\\appdata\\local\\programs\\python\\python39\\lib\\site-packages (from transformers) (3.7.1)\n",
      "Requirement already satisfied: huggingface-hub<1.0,>=0.1.0 in c:\\users\\subho\\appdata\\local\\programs\\python\\python39\\lib\\site-packages (from transformers) (0.4.0)\n",
      "Requirement already satisfied: requests in c:\\users\\subho\\appdata\\local\\programs\\python\\python39\\lib\\site-packages (from transformers) (2.26.0)\n",
      "Requirement already satisfied: pyyaml>=5.1 in c:\\users\\subho\\appdata\\local\\programs\\python\\python39\\lib\\site-packages (from transformers) (6.0)\n",
      "Requirement already satisfied: tqdm>=4.27 in c:\\users\\subho\\appdata\\local\\programs\\python\\python39\\lib\\site-packages (from transformers) (4.57.0)\n",
      "Requirement already satisfied: numpy>=1.17 in c:\\users\\subho\\appdata\\local\\programs\\python\\python39\\lib\\site-packages (from transformers) (1.21.2)\n",
      "Collecting tokenizers!=0.11.3,<0.13,>=0.11.1\n",
      "  Using cached tokenizers-0.12.1-cp39-cp39-win_amd64.whl (3.3 MB)\n",
      "Requirement already satisfied: regex!=2019.12.17 in c:\\users\\subho\\appdata\\local\\programs\\python\\python39\\lib\\site-packages (from transformers) (2022.7.25)\n",
      "Requirement already satisfied: typing-extensions>=3.7.4.3 in c:\\users\\subho\\appdata\\local\\programs\\python\\python39\\lib\\site-packages (from huggingface-hub<1.0,>=0.1.0->transformers) (4.0.0)\n",
      "Requirement already satisfied: pyparsing>=2.0.2 in c:\\users\\subho\\appdata\\local\\programs\\python\\python39\\lib\\site-packages (from packaging>=20.0->transformers) (2.4.7)\n",
      "Requirement already satisfied: charset-normalizer~=2.0.0 in c:\\users\\subho\\appdata\\local\\programs\\python\\python39\\lib\\site-packages (from requests->transformers) (2.0.7)\n",
      "Requirement already satisfied: certifi>=2017.4.17 in c:\\users\\subho\\appdata\\local\\programs\\python\\python39\\lib\\site-packages (from requests->transformers) (2021.10.8)\n",
      "Requirement already satisfied: urllib3<1.27,>=1.21.1 in c:\\users\\subho\\appdata\\local\\programs\\python\\python39\\lib\\site-packages (from requests->transformers) (1.26.7)\n",
      "Requirement already satisfied: idna<4,>=2.5 in c:\\users\\subho\\appdata\\local\\programs\\python\\python39\\lib\\site-packages (from requests->transformers) (3.3)\n",
      "Installing collected packages: tokenizers\n",
      "  Attempting uninstall: tokenizers\n",
      "    Found existing installation: tokenizers 0.9.4\n",
      "    Uninstalling tokenizers-0.9.4:\n",
      "      Successfully uninstalled tokenizers-0.9.4\n",
      "Successfully installed tokenizers-0.12.1\n"
     ]
    }
   ],
   "source": [
    "!pip install transformers"
   ]
  },
  {
   "cell_type": "code",
   "execution_count": 26,
   "id": "9fc4c620",
   "metadata": {},
   "outputs": [
    {
     "data": {
      "application/vnd.jupyter.widget-view+json": {
       "model_id": "6bdb0019f81b41038a3bbc7306dcba9e",
       "version_major": 2,
       "version_minor": 0
      },
      "text/plain": [
       "Downloading pytorch_model.bin:   0%|          | 0.00/823M [00:00<?, ?B/s]"
      ]
     },
     "metadata": {},
     "output_type": "display_data"
    }
   ],
   "source": [
    "from transformers import AutoModelForCausalLM, AutoTokenizer\n",
    "import torch\n",
    "\n",
    "tokenizer = AutoTokenizer.from_pretrained(\"microsoft/DialoGPT-medium\")\n",
    "model = AutoModelForCausalLM.from_pretrained(\"microsoft/DialoGPT-medium\")"
   ]
  },
  {
   "cell_type": "code",
   "execution_count": 87,
   "id": "0817a23b",
   "metadata": {},
   "outputs": [
    {
     "name": "stdout",
     "output_type": "stream",
     "text": [
      "Running on local URL:  http://127.0.0.1:7866/\n",
      "\n",
      "To create a public link, set `share=True` in `launch()`.\n"
     ]
    },
    {
     "data": {
      "text/html": [
       "<div><iframe src=\"http://127.0.0.1:7866/\" width=\"900\" height=\"500\" allow=\"autoplay; camera; microphone;\" frameborder=\"0\" allowfullscreen></iframe></div>"
      ],
      "text/plain": [
       "<IPython.core.display.HTML object>"
      ]
     },
     "metadata": {},
     "output_type": "display_data"
    },
    {
     "data": {
      "text/plain": [
       "(<gradio.routes.App at 0x2319c82de80>, 'http://127.0.0.1:7866/', None)"
      ]
     },
     "execution_count": 87,
     "metadata": {},
     "output_type": "execute_result"
    },
    {
     "name": "stderr",
     "output_type": "stream",
     "text": [
      "C:\\Users\\subho\\AppData\\Local\\Programs\\Python\\Python39\\lib\\site-packages\\sklearn\\feature_extraction\\text.py:396: UserWarning: Your stop_words may be inconsistent with your preprocessing. Tokenizing the stop words generated tokens ['ha', 'le', 'u', 'wa'] not in stop_words.\n",
      "  warnings.warn(\n"
     ]
    }
   ],
   "source": [
    "import gradio as gr\n",
    "\n",
    "gr.Interface(fn=predicter,\n",
    "             inputs=[\"text\", \"state\"],\n",
    "             outputs=[\"chatbot\", \"state\"]).launch()"
   ]
  },
  {
   "cell_type": "code",
   "execution_count": null,
   "id": "756dac4a",
   "metadata": {},
   "outputs": [],
   "source": []
  }
 ],
 "metadata": {
  "kernelspec": {
   "display_name": "Python 3 (ipykernel)",
   "language": "python",
   "name": "python3"
  },
  "language_info": {
   "codemirror_mode": {
    "name": "ipython",
    "version": 3
   },
   "file_extension": ".py",
   "mimetype": "text/x-python",
   "name": "python",
   "nbconvert_exporter": "python",
   "pygments_lexer": "ipython3",
   "version": "3.9.7"
  }
 },
 "nbformat": 4,
 "nbformat_minor": 5
}
